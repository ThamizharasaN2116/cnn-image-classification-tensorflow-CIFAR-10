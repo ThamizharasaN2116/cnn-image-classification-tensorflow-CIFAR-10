{
 "cells": [
  {
   "cell_type": "markdown",
   "metadata": {
    "collapsed": true
   },
   "source": [
    "# Image Classification\n",
    "In this project, you'll classify images from the [CIFAR-10 dataset](https://www.cs.toronto.edu/~kriz/cifar.html).  The dataset consists of airplanes, dogs, cats, and other objects. You'll preprocess the images, then train a convolutional neural network on all the samples. The images need to be normalized and the labels need to be one-hot encoded.  You'll get to apply what you learned and build a convolutional, max pooling, dropout, and fully connected layers.  At the end, you'll get to see your neural network's predictions on the sample images.\n",
    "## Get the Data\n",
    "Run the following cell to download the [CIFAR-10 dataset for python](https://www.cs.toronto.edu/~kriz/cifar-10-python.tar.gz)."
   ]
  },
  {
   "cell_type": "code",
   "execution_count": null,
   "metadata": {
    "collapsed": true
   },
   "outputs": [],
   "source": [
    "\"\"\"\n",
    "DON'T MODIFY ANYTHING IN THIS CELL THAT IS BELOW THIS LINE\n",
    "\"\"\"\n",
    "from urllib.request import urlretrieve\n",
    "from os.path import isfile, isdir\n",
    "from tqdm import tqdm\n",
    "import problem_unittests as tests\n",
    "import tarfile\n",
    "\n",
    "cifar10_dataset_folder_path = 'cifar-10-batches-py'\n",
    "\n",
    "# Use Floyd's cifar-10 dataset if present\n",
    "floyd_cifar10_location = '/input/cifar-10/python.tar.gz'\n",
    "if isfile(floyd_cifar10_location):\n",
    "    tar_gz_path = floyd_cifar10_location\n",
    "else:\n",
    "    tar_gz_path = 'cifar-10-python.tar.gz'\n",
    "\n",
    "class DLProgress(tqdm):\n",
    "    last_block = 0\n",
    "\n",
    "    def hook(self, block_num=1, block_size=1, total_size=None):\n",
    "        self.total = total_size\n",
    "        self.update((block_num - self.last_block) * block_size)\n",
    "        self.last_block = block_num\n",
    "\n",
    "if not isfile(tar_gz_path):\n",
    "    with DLProgress(unit='B', unit_scale=True, miniters=1, desc='CIFAR-10 Dataset') as pbar:\n",
    "        urlretrieve(\n",
    "            'https://www.cs.toronto.edu/~kriz/cifar-10-python.tar.gz',\n",
    "            tar_gz_path,\n",
    "            pbar.hook)\n",
    "\n",
    "if not isdir(cifar10_dataset_folder_path):\n",
    "    with tarfile.open(tar_gz_path) as tar:\n",
    "        tar.extractall()\n",
    "        tar.close()\n",
    "\n",
    "\n",
    "tests.test_folder_path(cifar10_dataset_folder_path)"
   ]
  },
  {
   "cell_type": "markdown",
   "metadata": {},
   "source": [
    "## Explore the Data\n",
    "The dataset is broken into batches to prevent your machine from running out of memory.  The CIFAR-10 dataset consists of 5 batches, named `data_batch_1`, `data_batch_2`, etc.. Each batch contains the labels and images that are one of the following:\n",
    "* airplane\n",
    "* automobile\n",
    "* bird\n",
    "* cat\n",
    "* deer\n",
    "* dog\n",
    "* frog\n",
    "* horse\n",
    "* ship\n",
    "* truck\n",
    "\n",
    "Understanding a dataset is part of making predictions on the data.  Play around with the code cell below by changing the `batch_id` and `sample_id`. The `batch_id` is the id for a batch (1-5). The `sample_id` is the id for a image and label pair in the batch.\n",
    "\n",
    "Ask yourself \"What are all possible labels?\", \"What is the range of values for the image data?\", \"Are the labels in order or random?\".  Answers to questions like these will help you preprocess the data and end up with better predictions."
   ]
  },
  {
   "cell_type": "code",
   "execution_count": null,
   "metadata": {
    "collapsed": true
   },
   "outputs": [],
   "source": [
    "%matplotlib inline\n",
    "%config InlineBackend.figure_format = 'retina'\n",
    "\n",
    "import helper\n",
    "import numpy as np\n",
    "\n",
    "# Explore the dataset\n",
    "batch_id = 5\n",
    "sample_id = 5000\n",
    "helper.display_stats(cifar10_dataset_folder_path, batch_id, sample_id)"
   ]
  },
  {
   "cell_type": "markdown",
   "metadata": {},
   "source": [
    "## Implement Preprocess Functions\n",
    "### Normalize\n",
    "In the cell below, implement the `normalize` function to take in image data, `x`, and return it as a normalized Numpy array. The values should be in the range of 0 to 1, inclusive.  The return object should be the same shape as `x`."
   ]
  },
  {
   "cell_type": "code",
   "execution_count": null,
   "metadata": {
    "collapsed": true
   },
   "outputs": [],
   "source": [
    "def normalize(x):\n",
    "    \"\"\"\n",
    "    Normalize a list of sample image data in the range of 0 to 1\n",
    "    : x: List of image data.  The image shape is (32, 32, 3)\n",
    "    : return: Numpy array of normalize data\n",
    "    \"\"\"\n",
    "    # TODO: Implement Function\n",
    "    #x = np.divide(x,np.max(x, axis=0))\n",
    "    return x/np.max(x, axis=0)\n",
    "\n",
    "\n",
    "\"\"\"\n",
    "DON'T MODIFY ANYTHING IN THIS CELL THAT IS BELOW THIS LINE\n",
    "\"\"\"\n",
    "tests.test_normalize(normalize)"
   ]
  },
  {
   "cell_type": "markdown",
   "metadata": {},
   "source": [
    "### One-hot encode\n",
    "Just like the previous code cell, you'll be implementing a function for preprocessing.  This time, you'll implement the `one_hot_encode` function. The input, `x`, are a list of labels.  Implement the function to return the list of labels as One-Hot encoded Numpy array.  The possible values for labels are 0 to 9. The one-hot encoding function should return the same encoding for each value between each call to `one_hot_encode`.  Make sure to save the map of encodings outside the function.\n",
    "\n",
    "Hint: Don't reinvent the wheel."
   ]
  },
  {
   "cell_type": "code",
   "execution_count": null,
   "metadata": {
    "collapsed": true
   },
   "outputs": [],
   "source": [
    "from sklearn.preprocessing import OneHotEncoder"
   ]
  },
  {
   "cell_type": "code",
   "execution_count": null,
   "metadata": {
    "collapsed": true
   },
   "outputs": [],
   "source": [
    "def one_hot_encode(x):\n",
    "    \"\"\"\n",
    "    One hot encode a list of sample labels. Return a one-hot encoded vector for each label.\n",
    "    : x: List of sample Labels\n",
    "    : return: Numpy array of one-hot encoded labels\n",
    "    \"\"\"\n",
    "    # TODO: Implement Function\n",
    "    oneHot = np.zeros((len(x), 10))\n",
    "    for idx, v in enumerate(x):\n",
    "        oneHot[idx][v] = 1\n",
    "    return oneHot\n",
    "\n",
    "\n",
    "\"\"\"\n",
    "DON'T MODIFY ANYTHING IN THIS CELL THAT IS BELOW THIS LINE\n",
    "\"\"\"\n",
    "tests.test_one_hot_encode(one_hot_encode)"
   ]
  },
  {
   "cell_type": "markdown",
   "metadata": {},
   "source": [
    "### Randomize Data\n",
    "As you saw from exploring the data above, the order of the samples are randomized.  It doesn't hurt to randomize it again, but you don't need to for this dataset."
   ]
  },
  {
   "cell_type": "markdown",
   "metadata": {},
   "source": [
    "## Preprocess all the data and save it\n",
    "Running the code cell below will preprocess all the CIFAR-10 data and save it to file. The code below also uses 10% of the training data for validation."
   ]
  },
  {
   "cell_type": "code",
   "execution_count": null,
   "metadata": {
    "collapsed": true
   },
   "outputs": [],
   "source": [
    "\"\"\"\n",
    "DON'T MODIFY ANYTHING IN THIS CELL\n",
    "\"\"\"\n",
    "# Preprocess Training, Validation, and Testing Data\n",
    "helper.preprocess_and_save_data(cifar10_dataset_folder_path, normalize, one_hot_encode)"
   ]
  },
  {
   "cell_type": "markdown",
   "metadata": {},
   "source": [
    "# Check Point\n",
    "This is your first checkpoint.  If you ever decide to come back to this notebook or have to restart the notebook, you can start from here.  The preprocessed data has been saved to disk."
   ]
  },
  {
   "cell_type": "code",
   "execution_count": 1,
   "metadata": {
    "collapsed": true
   },
   "outputs": [],
   "source": [
    "\"\"\"\n",
    "DON'T MODIFY ANYTHING IN THIS CELL\n",
    "\"\"\"\n",
    "import pickle\n",
    "import problem_unittests as tests\n",
    "import helper\n",
    "\n",
    "# Load the Preprocessed Validation data\n",
    "valid_features, valid_labels = pickle.load(open('preprocess_validation.p', mode='rb'))"
   ]
  },
  {
   "cell_type": "markdown",
   "metadata": {},
   "source": [
    "## Build the network\n",
    "For the neural network, you'll build each layer into a function.  Most of the code you've seen has been outside of functions. To test your code more thoroughly, we require that you put each layer in a function.  This allows us to give you better feedback and test for simple mistakes using our unittests before you submit your project.\n",
    "\n",
    ">**Note:** If you're finding it hard to dedicate enough time for this course each week, we've provided a small shortcut to this part of the project. In the next couple of problems, you'll have the option to use classes from the [TensorFlow Layers](https://www.tensorflow.org/api_docs/python/tf/layers) or [TensorFlow Layers (contrib)](https://www.tensorflow.org/api_guides/python/contrib.layers) packages to build each layer, except the layers you build in the \"Convolutional and Max Pooling Layer\" section.  TF Layers is similar to Keras's and TFLearn's abstraction to layers, so it's easy to pickup.\n",
    "\n",
    ">However, if you would like to get the most out of this course, try to solve all the problems _without_ using anything from the TF Layers packages. You **can** still use classes from other packages that happen to have the same name as ones you find in TF Layers! For example, instead of using the TF Layers version of the `conv2d` class, [tf.layers.conv2d](https://www.tensorflow.org/api_docs/python/tf/layers/conv2d), you would want to use the TF Neural Network version of `conv2d`, [tf.nn.conv2d](https://www.tensorflow.org/api_docs/python/tf/nn/conv2d). \n",
    "\n",
    "Let's begin!\n",
    "\n",
    "### Input\n",
    "The neural network needs to read the image data, one-hot encoded labels, and dropout keep probability. Implement the following functions\n",
    "* Implement `neural_net_image_input`\n",
    " * Return a [TF Placeholder](https://www.tensorflow.org/api_docs/python/tf/placeholder)\n",
    " * Set the shape using `image_shape` with batch size set to `None`.\n",
    " * Name the TensorFlow placeholder \"x\" using the TensorFlow `name` parameter in the [TF Placeholder](https://www.tensorflow.org/api_docs/python/tf/placeholder).\n",
    "* Implement `neural_net_label_input`\n",
    " * Return a [TF Placeholder](https://www.tensorflow.org/api_docs/python/tf/placeholder)\n",
    " * Set the shape using `n_classes` with batch size set to `None`.\n",
    " * Name the TensorFlow placeholder \"y\" using the TensorFlow `name` parameter in the [TF Placeholder](https://www.tensorflow.org/api_docs/python/tf/placeholder).\n",
    "* Implement `neural_net_keep_prob_input`\n",
    " * Return a [TF Placeholder](https://www.tensorflow.org/api_docs/python/tf/placeholder) for dropout keep probability.\n",
    " * Name the TensorFlow placeholder \"keep_prob\" using the TensorFlow `name` parameter in the [TF Placeholder](https://www.tensorflow.org/api_docs/python/tf/placeholder).\n",
    "\n",
    "These names will be used at the end of the project to load your saved model.\n",
    "\n",
    "Note: `None` for shapes in TensorFlow allow for a dynamic size."
   ]
  },
  {
   "cell_type": "code",
   "execution_count": 2,
   "metadata": {
    "collapsed": true
   },
   "outputs": [],
   "source": [
    "import tensorflow as tf"
   ]
  },
  {
   "cell_type": "code",
   "execution_count": 3,
   "metadata": {},
   "outputs": [
    {
     "name": "stdout",
     "output_type": "stream",
     "text": [
      "(32, 32, 3)\n",
      "Image Input Tests Passed.\n",
      "Label Input Tests Passed.\n",
      "Keep Prob Tests Passed.\n"
     ]
    }
   ],
   "source": [
    "\n",
    "def neural_net_image_input(image_shape):\n",
    "    \"\"\"\n",
    "    Return a Tensor for a batch of image input\n",
    "    : image_shape: Shape of the images\n",
    "    : return: Tensor for image input.\n",
    "    \"\"\"\n",
    "    # TODO: Implement Function\n",
    "    print(image_shape)\n",
    "    return tf.placeholder(tf.float32, shape=[None, image_shape[0], image_shape[1], image_shape[2]], name='x')\n",
    "\n",
    "\n",
    "def neural_net_label_input(n_classes):\n",
    "    \"\"\"\n",
    "    Return a Tensor for a batch of label input\n",
    "    : n_classes: Number of classes\n",
    "    : return: Tensor for label input.\n",
    "    \"\"\"\n",
    "    # TODO: Implement Function\n",
    "    return tf.placeholder(tf.float32, shape=[None, n_classes], name='y')\n",
    "\n",
    "\n",
    "def neural_net_keep_prob_input():\n",
    "    \"\"\"\n",
    "    Return a Tensor for keep probability\n",
    "    : return: Tensor for keep probability.\n",
    "    \"\"\"\n",
    "    # TODO: Implement Function\n",
    "    return tf.placeholder(tf.float32, name='keep_prob')\n",
    "\n",
    "\n",
    "\"\"\"\n",
    "DON'T MODIFY ANYTHING IN THIS CELL THAT IS BELOW THIS LINE\n",
    "\"\"\"\n",
    "tf.reset_default_graph()\n",
    "tests.test_nn_image_inputs(neural_net_image_input)\n",
    "tests.test_nn_label_inputs(neural_net_label_input)\n",
    "tests.test_nn_keep_prob_inputs(neural_net_keep_prob_input)"
   ]
  },
  {
   "cell_type": "markdown",
   "metadata": {},
   "source": [
    "### Convolution and Max Pooling Layer\n",
    "Convolution layers have a lot of success with images. For this code cell, you should implement the function `conv2d_maxpool` to apply convolution then max pooling:\n",
    "* Create the weight and bias using `conv_ksize`, `conv_num_outputs` and the shape of `x_tensor`.\n",
    "* Apply a convolution to `x_tensor` using weight and `conv_strides`.\n",
    " * We recommend you use same padding, but you're welcome to use any padding.\n",
    "* Add bias\n",
    "* Add a nonlinear activation to the convolution.\n",
    "* Apply Max Pooling using `pool_ksize` and `pool_strides`.\n",
    " * We recommend you use same padding, but you're welcome to use any padding.\n",
    "\n",
    "**Note:** You **can't** use [TensorFlow Layers](https://www.tensorflow.org/api_docs/python/tf/layers) or [TensorFlow Layers (contrib)](https://www.tensorflow.org/api_guides/python/contrib.layers) for **this** layer, but you can still use TensorFlow's [Neural Network](https://www.tensorflow.org/api_docs/python/tf/nn) package. You may still use the shortcut option for all the **other** layers."
   ]
  },
  {
   "cell_type": "code",
   "execution_count": 4,
   "metadata": {},
   "outputs": [
    {
     "name": "stdout",
     "output_type": "stream",
     "text": [
      "x_tensor shape: (?, 32, 32, 5) conv_num_outpus: 10 conv_ksize: (2, 2)            conv_strides: (4, 4) pool_ksize: (2, 2) pool_strides: (2, 2)\n",
      "shape:  [2, 2, 5, 10]\n",
      "Tests Passed\n"
     ]
    }
   ],
   "source": [
    "def conv2d_maxpool(x_tensor, conv_num_outputs, conv_ksize, conv_strides, pool_ksize, pool_strides):\n",
    "    \"\"\"\n",
    "    Apply convolution then max pooling to x_tensor\n",
    "    :param x_tensor: TensorFlow Tensor\n",
    "    :param conv_num_outputs: Number of outputs for the convolutional layer\n",
    "    :param conv_ksize: kernal size 2-D Tuple for the convolutional layer\n",
    "    :param conv_strides: Stride 2-D Tuple for convolution\n",
    "    :param pool_ksize: kernal size 2-D Tuple for pool\n",
    "    :param pool_strides: Stride 2-D Tuple for pool\n",
    "    : return: A tensor that represents convolution and max pooling of x_tensor\n",
    "    \"\"\"\n",
    "    # TODO: Implement Function\n",
    "    #shape = [filter_size, filter_size, num_input_channels, num_filters]\n",
    "    \n",
    "    num_input_channels = x_tensor.shape.as_list()[3]\n",
    "    num_filters = conv_num_outputs\n",
    "    print(\"x_tensor shape: {} conv_num_outpus: {} conv_ksize: {}\\\n",
    "            conv_strides: {} pool_ksize: {} pool_strides: {}\".format(x_tensor.shape, conv_num_outputs,\n",
    "                                                                      conv_ksize, conv_strides, pool_ksize, pool_strides)) \n",
    "    \n",
    "    shape = [conv_ksize[0], conv_ksize[1], num_input_channels, num_filters]\n",
    "    print(\"shape: \",shape)\n",
    "    weight = tf.Variable(tf.truncated_normal(shape, mean=0, stddev=0.08))\n",
    "    bias = tf.Variable(tf.constant(0.05, shape=[num_filters]))\n",
    "    #bias = tf.Variable(tf.zeros(num_filters))\n",
    "    conv = tf.nn.conv2d(x_tensor, weight, strides=[1,conv_strides[0], conv_strides[1],1], padding='SAME')\n",
    "    conv = tf.nn.bias_add(conv, bias)\n",
    "    conv = tf.nn.relu(conv)\n",
    "    return tf.nn.max_pool(conv, ksize=[1,pool_ksize[0],pool_ksize[1],1], \n",
    "                  strides=[1,pool_strides[0], pool_strides[1], 1],\n",
    "                  padding='SAME')\n",
    "\n",
    "\n",
    "\"\"\"\n",
    "DON'T MODIFY ANYTHING IN THIS CELL THAT IS BELOW THIS LINE\n",
    "\"\"\"\n",
    "tests.test_con_pool(conv2d_maxpool)"
   ]
  },
  {
   "cell_type": "markdown",
   "metadata": {},
   "source": [
    "### Flatten Layer\n",
    "Implement the `flatten` function to change the dimension of `x_tensor` from a 4-D tensor to a 2-D tensor.  The output should be the shape (*Batch Size*, *Flattened Image Size*). Shortcut option: you can use classes from the [TensorFlow Layers](https://www.tensorflow.org/api_docs/python/tf/layers) or [TensorFlow Layers (contrib)](https://www.tensorflow.org/api_guides/python/contrib.layers) packages for this layer. For more of a challenge, only use other TensorFlow packages."
   ]
  },
  {
   "cell_type": "code",
   "execution_count": 5,
   "metadata": {},
   "outputs": [
    {
     "name": "stdout",
     "output_type": "stream",
     "text": [
      "shape: (?, 10, 30, 6) num_feautres: 1800\n",
      "Tests Passed\n"
     ]
    }
   ],
   "source": [
    "def flatten(x_tensor):\n",
    "    \"\"\"\n",
    "    Flatten x_tensor to (Batch Size, Flattened Image Size)\n",
    "    : x_tensor: A tensor of size (Batch Size, ...), where ... are the image dimensions.\n",
    "    : return: A tensor of size (Batch Size, Flattened Image Size).\n",
    "    \"\"\"\n",
    "    # TODO: Implement Function\n",
    "    #print(x_tensor)\n",
    "    shape = x_tensor.get_shape()\n",
    "    num_features = shape[1:4].num_elements()\n",
    "    layer_flat = tf.reshape(x_tensor, [-1, num_features])\n",
    "    print(\"shape: {} num_feautres: {}\".format(shape, layer_flat.get_shape().as_list()[1]))\n",
    "    return layer_flat\n",
    "\n",
    "\n",
    "\"\"\"\n",
    "DON'T MODIFY ANYTHING IN THIS CELL THAT IS BELOW THIS LINE\n",
    "\"\"\"\n",
    "tests.test_flatten(flatten)"
   ]
  },
  {
   "cell_type": "markdown",
   "metadata": {},
   "source": [
    "### Fully-Connected Layer\n",
    "Implement the `fully_conn` function to apply a fully connected layer to `x_tensor` with the shape (*Batch Size*, *num_outputs*). Shortcut option: you can use classes from the [TensorFlow Layers](https://www.tensorflow.org/api_docs/python/tf/layers) or [TensorFlow Layers (contrib)](https://www.tensorflow.org/api_guides/python/contrib.layers) packages for this layer. For more of a challenge, only use other TensorFlow packages."
   ]
  },
  {
   "cell_type": "code",
   "execution_count": 6,
   "metadata": {},
   "outputs": [
    {
     "name": "stdout",
     "output_type": "stream",
     "text": [
      "(?, 128)\n",
      "Tests Passed\n"
     ]
    }
   ],
   "source": [
    "def fully_conn(x_tensor, num_outputs):\n",
    "    \"\"\"\n",
    "    Apply a fully connected layer to x_tensor using weight and bias\n",
    "    : x_tensor: A 2-D tensor where the first dimension is batch size.\n",
    "    : num_outputs: The number of output that the new tensor should be.\n",
    "    : return: A 2-D tensor where the second dimension is num_outputs.\n",
    "    \"\"\"\n",
    "    # TODO: Implement Function\n",
    "    print(x_tensor.get_shape())\n",
    "    weights = tf.Variable(tf.truncated_normal([x_tensor.get_shape().as_list()[1], num_outputs], mean=0.0, stddev=0.08))\n",
    "    bias = tf.Variable(tf.constant(0.05, shape=[num_outputs]))\n",
    "    #bias = tf.Variable(tf.zeros(num_outputs))\n",
    "    tf.Variable(tf.zeros(num_outputs))\n",
    "    fc = tf.matmul(x_tensor, weights) + bias\n",
    "    return tf.nn.relu(fc)\n",
    "\n",
    "\n",
    "\"\"\"\n",
    "DON'T MODIFY ANYTHING IN THIS CELL THAT IS BELOW THIS LINE\n",
    "\"\"\"\n",
    "tests.test_fully_conn(fully_conn)"
   ]
  },
  {
   "cell_type": "markdown",
   "metadata": {},
   "source": [
    "### Output Layer\n",
    "Implement the `output` function to apply a fully connected layer to `x_tensor` with the shape (*Batch Size*, *num_outputs*). Shortcut option: you can use classes from the [TensorFlow Layers](https://www.tensorflow.org/api_docs/python/tf/layers) or [TensorFlow Layers (contrib)](https://www.tensorflow.org/api_guides/python/contrib.layers) packages for this layer. For more of a challenge, only use other TensorFlow packages.\n",
    "\n",
    "**Note:** Activation, softmax, or cross entropy should **not** be applied to this."
   ]
  },
  {
   "cell_type": "code",
   "execution_count": 7,
   "metadata": {},
   "outputs": [
    {
     "name": "stdout",
     "output_type": "stream",
     "text": [
      "Tests Passed\n"
     ]
    }
   ],
   "source": [
    "def output(x_tensor, num_outputs):\n",
    "    \"\"\"\n",
    "    Apply a output layer to x_tensor using weight and bias\n",
    "    : x_tensor: A 2-D tensor where the first dimension is batch size.\n",
    "    : num_outputs: The number of output that the new tensor should be.\n",
    "    : return: A 2-D tensor where the second dimension is num_outputs.\n",
    "    \"\"\"\n",
    "    # TODO: Implement Function\n",
    "    weights = tf.Variable(tf.truncated_normal([x_tensor.get_shape().as_list()[1], num_outputs],mean=0.0,stddev=0.5))\n",
    "    bias = tf.Variable(tf.constant(0.05, shape=[num_outputs]))\n",
    "    #bias = tf.Variable(tf.zeros(num_outputs))\n",
    "    out = tf.add(tf.matmul(x_tensor, weights),bias)\n",
    "    return out\n",
    "\n",
    "\n",
    "\"\"\"\n",
    "DON'T MODIFY ANYTHING IN THIS CELL THAT IS BELOW THIS LINE\n",
    "\"\"\"\n",
    "tests.test_output(output)"
   ]
  },
  {
   "cell_type": "markdown",
   "metadata": {},
   "source": [
    "### Create Convolutional Model\n",
    "Implement the function `conv_net` to create a convolutional neural network model. The function takes in a batch of images, `x`, and outputs logits.  Use the layers you created above to create this model:\n",
    "\n",
    "* Apply 1, 2, or 3 Convolution and Max Pool layers\n",
    "* Apply a Flatten Layer\n",
    "* Apply 1, 2, or 3 Fully Connected Layers\n",
    "* Apply an Output Layer\n",
    "* Return the output\n",
    "* Apply [TensorFlow's Dropout](https://www.tensorflow.org/api_docs/python/tf/nn/dropout) to one or more layers in the model using `keep_prob`. "
   ]
  },
  {
   "cell_type": "code",
   "execution_count": 8,
   "metadata": {},
   "outputs": [
    {
     "name": "stdout",
     "output_type": "stream",
     "text": [
      "(32, 32, 3)\n",
      "x_tensor shape: (?, 32, 32, 3) conv_num_outpus: 128 conv_ksize: [5, 5]            conv_strides: [3, 3] pool_ksize: [3, 3] pool_strides: [2, 2]\n",
      "shape:  [5, 5, 3, 128]\n",
      "x_tensor shape: (?, 6, 6, 128) conv_num_outpus: 256 conv_ksize: [1, 1]            conv_strides: [1, 1] pool_ksize: [1, 1] pool_strides: [2, 2]\n",
      "shape:  [1, 1, 128, 256]\n",
      "shape: (?, 3, 3, 256) num_feautres: 2304\n",
      "fl1:  Tensor(\"Reshape:0\", shape=(?, 2304), dtype=float32)  :  2304\n",
      "(?, 2304)\n",
      "x_tensor shape: (?, 32, 32, 3) conv_num_outpus: 128 conv_ksize: [5, 5]            conv_strides: [3, 3] pool_ksize: [3, 3] pool_strides: [2, 2]\n",
      "shape:  [5, 5, 3, 128]\n",
      "x_tensor shape: (?, 6, 6, 128) conv_num_outpus: 256 conv_ksize: [1, 1]            conv_strides: [1, 1] pool_ksize: [1, 1] pool_strides: [2, 2]\n",
      "shape:  [1, 1, 128, 256]\n",
      "shape: (?, 3, 3, 256) num_feautres: 2304\n",
      "fl1:  Tensor(\"Reshape_4:0\", shape=(?, 2304), dtype=float32)  :  2304\n",
      "(?, 2304)\n",
      "Neural Network Built!\n"
     ]
    }
   ],
   "source": [
    "def conv_net(x, keep_prob):\n",
    "    \"\"\"\n",
    "    Create a convolutional neural network model\n",
    "    : x: Placeholder tensor that holds image data.\n",
    "    : keep_prob: Placeholder tensor that hold dropout keep probability.\n",
    "    : return: Tensor that represents logits\n",
    "    \"\"\"\n",
    "    \n",
    "    # TODO: Apply 1, 2, or 3 Convolution and Max Pool layers\n",
    "    #    Play around with different number of outputs, kernel size and stride\n",
    "    # Function Definition from Above:\n",
    "    #    conv2d_maxpool(x_tensor, conv_num_outputs, conv_ksize, conv_strides, pool_ksize, pool_strides)\n",
    "    conv1 = conv2d_maxpool(x, 128, [5,5], [3,3], [3,3], [2,2])\n",
    "    conv1 = tf.nn.dropout(conv1, keep_prob)\n",
    "    conv2 = conv2d_maxpool(conv1, 256, [1,1], [1,1], [1,1], [2,2])\n",
    "    #conv2 = tf.nn.dropout(conv2, keep_prob)\n",
    "    #conv3 = conv2d_maxpool(conv2, 128, [5,5], [2,2], [3,3], [2,2])\n",
    "    # TODO: Apply a Flatten Layer\n",
    "    # Function Definition from Above:\n",
    "    #   flatten(x_tensor)\n",
    "    fl1=flatten(conv2)\n",
    "    print(\"fl1: \",fl1,\" : \",fl1.get_shape().as_list()[1])\n",
    "    # TODO: Apply 1, 2, or 3 Fully Connected Layers\n",
    "    #    Play around with different number of outputs\n",
    "    # Function Definition from Above:\n",
    "    #   fully_conn(x_tensor, num_outputs)\n",
    "    fc1=fully_conn(fl1,fl1.get_shape().as_list()[1])\n",
    "    #tf.nn.dropout(fc1, keep_prob)\n",
    "    # TODO: Apply an Output Layer\n",
    "    #    Set this to the number of classes\n",
    "    # Function Definition from Above:\n",
    "    #   output(x_tensor, num_outputs)\n",
    "    out = output(fc1,10)\n",
    "    return out    \n",
    "\n",
    "\n",
    "\"\"\"\n",
    "DON'T MODIFY ANYTHING IN THIS CELL THAT IS BELOW THIS LINE\n",
    "\"\"\"\n",
    "\n",
    "##############################\n",
    "## Build the Neural Network ##\n",
    "##############################\n",
    "\n",
    "# Remove previous weights, bias, inputs, etc..\n",
    "tf.reset_default_graph()\n",
    "\n",
    "# Inputs\n",
    "x = neural_net_image_input((32, 32, 3))\n",
    "y = neural_net_label_input(10)\n",
    "keep_prob = neural_net_keep_prob_input()\n",
    "\n",
    "# Model\n",
    "logits = conv_net(x, keep_prob)\n",
    "\n",
    "# Name logits Tensor, so that is can be loaded from disk after training\n",
    "logits = tf.identity(logits, name='logits')\n",
    "\n",
    "# Loss and Optimizer\n",
    "cost = tf.reduce_mean(tf.nn.softmax_cross_entropy_with_logits(logits=logits, labels=y))\n",
    "optimizer = tf.train.AdamOptimizer().minimize(cost)\n",
    "\n",
    "# Accuracy\n",
    "correct_pred = tf.equal(tf.argmax(logits, 1), tf.argmax(y, 1))\n",
    "accuracy = tf.reduce_mean(tf.cast(correct_pred, tf.float32), name='accuracy')\n",
    "\n",
    "tests.test_conv_net(conv_net)"
   ]
  },
  {
   "cell_type": "markdown",
   "metadata": {},
   "source": [
    "## Train the Neural Network\n",
    "### Single Optimization\n",
    "Implement the function `train_neural_network` to do a single optimization.  The optimization should use `optimizer` to optimize in `session` with a `feed_dict` of the following:\n",
    "* `x` for image input\n",
    "* `y` for labels\n",
    "* `keep_prob` for keep probability for dropout\n",
    "\n",
    "This function will be called for each batch, so `tf.global_variables_initializer()` has already been called.\n",
    "\n",
    "Note: Nothing needs to be returned. This function is only optimizing the neural network."
   ]
  },
  {
   "cell_type": "code",
   "execution_count": 9,
   "metadata": {},
   "outputs": [
    {
     "name": "stdout",
     "output_type": "stream",
     "text": [
      "Tests Passed\n"
     ]
    }
   ],
   "source": [
    "def train_neural_network(session, optimizer, keep_probability, feature_batch, label_batch):\n",
    "    \"\"\"\n",
    "    Optimize the session on a batch of images and labels\n",
    "    : session: Current TensorFlow session\n",
    "    : optimizer: TensorFlow optimizer function\n",
    "    : keep_probability: keep probability\n",
    "    : feature_batch: Batch of Numpy image data\n",
    "    : label_batch: Batch of Numpy label data\n",
    "    \"\"\"\n",
    "    # TODO: Implement Function\n",
    "    session.run(optimizer, feed_dict={\n",
    "        x: feature_batch,\n",
    "        y : label_batch,\n",
    "        keep_prob : keep_probability\n",
    "    })\n",
    "\n",
    "\n",
    "\"\"\"\n",
    "DON'T MODIFY ANYTHING IN THIS CELL THAT IS BELOW THIS LINE\n",
    "\"\"\"\n",
    "tests.test_train_nn(train_neural_network)"
   ]
  },
  {
   "cell_type": "markdown",
   "metadata": {},
   "source": [
    "### Show Stats\n",
    "Implement the function `print_stats` to print loss and validation accuracy.  Use the global variables `valid_features` and `valid_labels` to calculate validation accuracy.  Use a keep probability of `1.0` to calculate the loss and validation accuracy."
   ]
  },
  {
   "cell_type": "code",
   "execution_count": 10,
   "metadata": {
    "collapsed": true
   },
   "outputs": [],
   "source": [
    "def print_stats(session, feature_batch, label_batch, cost, accuracy):\n",
    "    \"\"\"\n",
    "    Print information about loss and validation accuracy\n",
    "    : session: Current TensorFlow session\n",
    "    : feature_batch: Batch of Numpy image data\n",
    "    : label_batch: Batch of Numpy label data\n",
    "    : cost: TensorFlow cost function\n",
    "    : accuracy: TensorFlow accuracy function\n",
    "    \"\"\"\n",
    "    # TODO: Implement Function\n",
    "    loss = session.run(cost, feed_dict={\n",
    "        x : feature_batch,\n",
    "        y : label_batch,\n",
    "        keep_prob: 1.0\n",
    "    })\n",
    "    validation_accuracy = sess.run(accuracy, feed_dict={\n",
    "        x: valid_features,\n",
    "        y: valid_labels,\n",
    "        keep_prob: 1.0\n",
    "    })\n",
    "    print('Loss: {:>10.4f} Accuracy: {:.6f}'.format(loss,validation_accuracy))\n",
    "    "
   ]
  },
  {
   "cell_type": "markdown",
   "metadata": {},
   "source": [
    "### Hyperparameters\n",
    "Tune the following parameters:\n",
    "* Set `epochs` to the number of iterations until the network stops learning or start overfitting\n",
    "* Set `batch_size` to the highest number that your machine has memory for.  Most people set them to common sizes of memory:\n",
    " * 64\n",
    " * 128\n",
    " * 256\n",
    " * ...\n",
    "* Set `keep_probability` to the probability of keeping a node using dropout"
   ]
  },
  {
   "cell_type": "code",
   "execution_count": 11,
   "metadata": {
    "collapsed": true
   },
   "outputs": [],
   "source": [
    "# TODO: Tune Parameters\n",
    "epochs = 30\n",
    "batch_size = 256\n",
    "keep_probability = 0.5"
   ]
  },
  {
   "cell_type": "markdown",
   "metadata": {},
   "source": [
    "### Train on a Single CIFAR-10 Batch\n",
    "Instead of training the neural network on all the CIFAR-10 batches of data, let's use a single batch. This should save time while you iterate on the model to get a better accuracy.  Once the final validation accuracy is 50% or greater, run the model on all the data in the next section."
   ]
  },
  {
   "cell_type": "code",
   "execution_count": 12,
   "metadata": {},
   "outputs": [
    {
     "name": "stdout",
     "output_type": "stream",
     "text": [
      "Checking the Training on a Single Batch...\n",
      "Epoch  1, CIFAR-10 Batch 1:  Loss:     2.1810 Accuracy: 0.198200\n",
      "Epoch  2, CIFAR-10 Batch 1:  Loss:     1.8540 Accuracy: 0.355200\n",
      "Epoch  3, CIFAR-10 Batch 1:  Loss:     1.6032 Accuracy: 0.401000\n",
      "Epoch  4, CIFAR-10 Batch 1:  Loss:     1.3567 Accuracy: 0.424400\n",
      "Epoch  5, CIFAR-10 Batch 1:  Loss:     1.2786 Accuracy: 0.429000\n",
      "Epoch  6, CIFAR-10 Batch 1:  Loss:     1.1609 Accuracy: 0.444400\n",
      "Epoch  7, CIFAR-10 Batch 1:  Loss:     1.0294 Accuracy: 0.446400\n",
      "Epoch  8, CIFAR-10 Batch 1:  Loss:     0.9892 Accuracy: 0.460200\n",
      "Epoch  9, CIFAR-10 Batch 1:  Loss:     0.8904 Accuracy: 0.461800\n",
      "Epoch 10, CIFAR-10 Batch 1:  Loss:     0.8445 Accuracy: 0.469600\n",
      "Epoch 11, CIFAR-10 Batch 1:  Loss:     0.7884 Accuracy: 0.466800\n",
      "Epoch 12, CIFAR-10 Batch 1:  Loss:     0.7441 Accuracy: 0.468400\n",
      "Epoch 13, CIFAR-10 Batch 1:  Loss:     0.7298 Accuracy: 0.465400\n",
      "Epoch 14, CIFAR-10 Batch 1:  Loss:     0.6795 Accuracy: 0.466800\n",
      "Epoch 15, CIFAR-10 Batch 1:  Loss:     0.5883 Accuracy: 0.481200\n",
      "Epoch 16, CIFAR-10 Batch 1:  Loss:     0.5899 Accuracy: 0.484000\n",
      "Epoch 17, CIFAR-10 Batch 1:  Loss:     0.5822 Accuracy: 0.485200\n",
      "Epoch 18, CIFAR-10 Batch 1:  Loss:     0.4735 Accuracy: 0.493400\n",
      "Epoch 19, CIFAR-10 Batch 1:  Loss:     0.4608 Accuracy: 0.500200\n",
      "Epoch 20, CIFAR-10 Batch 1:  Loss:     0.3803 Accuracy: 0.500200\n",
      "Epoch 21, CIFAR-10 Batch 1:  Loss:     0.3961 Accuracy: 0.497000\n",
      "Epoch 22, CIFAR-10 Batch 1:  Loss:     0.3281 Accuracy: 0.510000\n",
      "Epoch 23, CIFAR-10 Batch 1:  Loss:     0.3068 Accuracy: 0.508800\n",
      "Epoch 24, CIFAR-10 Batch 1:  Loss:     0.2547 Accuracy: 0.510400\n",
      "Epoch 25, CIFAR-10 Batch 1:  Loss:     0.2300 Accuracy: 0.504800\n",
      "Epoch 26, CIFAR-10 Batch 1:  Loss:     0.2124 Accuracy: 0.512200\n",
      "Epoch 27, CIFAR-10 Batch 1:  Loss:     0.1691 Accuracy: 0.515800\n",
      "Epoch 28, CIFAR-10 Batch 1:  Loss:     0.1509 Accuracy: 0.507600\n",
      "Epoch 29, CIFAR-10 Batch 1:  Loss:     0.1356 Accuracy: 0.505400\n",
      "Epoch 30, CIFAR-10 Batch 1:  Loss:     0.1201 Accuracy: 0.525600\n"
     ]
    }
   ],
   "source": [
    "\"\"\"\n",
    "DON'T MODIFY ANYTHING IN THIS CELL\n",
    "\"\"\"\n",
    "print('Checking the Training on a Single Batch...')\n",
    "with tf.Session() as sess:\n",
    "    # Initializing the variables\n",
    "    sess.run(tf.global_variables_initializer())\n",
    "    \n",
    "    # Training cycle\n",
    "    for epoch in range(epochs):\n",
    "        batch_i = 1\n",
    "        for batch_features, batch_labels in helper.load_preprocess_training_batch(batch_i, batch_size):\n",
    "            train_neural_network(sess, optimizer, keep_probability, batch_features, batch_labels)\n",
    "        print('Epoch {:>2}, CIFAR-10 Batch {}:  '.format(epoch + 1, batch_i), end='')\n",
    "        print_stats(sess, batch_features, batch_labels, cost, accuracy)"
   ]
  },
  {
   "cell_type": "markdown",
   "metadata": {},
   "source": [
    "### Fully Train the Model\n",
    "Now that you got a good accuracy with a single CIFAR-10 batch, try it with all five batches."
   ]
  },
  {
   "cell_type": "code",
   "execution_count": 13,
   "metadata": {},
   "outputs": [
    {
     "name": "stdout",
     "output_type": "stream",
     "text": [
      "Training...\n",
      "Epoch  1, CIFAR-10 Batch 1:  Loss:     2.4414 Accuracy: 0.174200\n",
      "Epoch  1, CIFAR-10 Batch 2:  Loss:     1.7755 Accuracy: 0.342400\n",
      "Epoch  1, CIFAR-10 Batch 3:  Loss:     1.5422 Accuracy: 0.385000\n",
      "Epoch  1, CIFAR-10 Batch 4:  Loss:     1.6409 Accuracy: 0.408800\n",
      "Epoch  1, CIFAR-10 Batch 5:  Loss:     1.7769 Accuracy: 0.417000\n",
      "Epoch  2, CIFAR-10 Batch 1:  Loss:     1.6072 Accuracy: 0.429600\n",
      "Epoch  2, CIFAR-10 Batch 2:  Loss:     1.3358 Accuracy: 0.434000\n",
      "Epoch  2, CIFAR-10 Batch 3:  Loss:     1.2916 Accuracy: 0.442000\n",
      "Epoch  2, CIFAR-10 Batch 4:  Loss:     1.5523 Accuracy: 0.457600\n",
      "Epoch  2, CIFAR-10 Batch 5:  Loss:     1.5326 Accuracy: 0.456600\n",
      "Epoch  3, CIFAR-10 Batch 1:  Loss:     1.4399 Accuracy: 0.454600\n",
      "Epoch  3, CIFAR-10 Batch 2:  Loss:     1.1741 Accuracy: 0.465600\n",
      "Epoch  3, CIFAR-10 Batch 3:  Loss:     1.1762 Accuracy: 0.467000\n",
      "Epoch  3, CIFAR-10 Batch 4:  Loss:     1.4742 Accuracy: 0.462000\n",
      "Epoch  3, CIFAR-10 Batch 5:  Loss:     1.4531 Accuracy: 0.460600\n",
      "Epoch  4, CIFAR-10 Batch 1:  Loss:     1.3975 Accuracy: 0.477000\n",
      "Epoch  4, CIFAR-10 Batch 2:  Loss:     1.0613 Accuracy: 0.477400\n",
      "Epoch  4, CIFAR-10 Batch 3:  Loss:     1.1073 Accuracy: 0.484800\n",
      "Epoch  4, CIFAR-10 Batch 4:  Loss:     1.5352 Accuracy: 0.479000\n",
      "Epoch  4, CIFAR-10 Batch 5:  Loss:     1.4297 Accuracy: 0.466400\n",
      "Epoch  5, CIFAR-10 Batch 1:  Loss:     1.2663 Accuracy: 0.481800\n",
      "Epoch  5, CIFAR-10 Batch 2:  Loss:     1.0629 Accuracy: 0.489600\n",
      "Epoch  5, CIFAR-10 Batch 3:  Loss:     1.0015 Accuracy: 0.489600\n",
      "Epoch  5, CIFAR-10 Batch 4:  Loss:     1.3053 Accuracy: 0.495000\n",
      "Epoch  5, CIFAR-10 Batch 5:  Loss:     1.2430 Accuracy: 0.487400\n",
      "Epoch  6, CIFAR-10 Batch 1:  Loss:     1.2051 Accuracy: 0.510800\n",
      "Epoch  6, CIFAR-10 Batch 2:  Loss:     0.9846 Accuracy: 0.498800\n",
      "Epoch  6, CIFAR-10 Batch 3:  Loss:     0.8125 Accuracy: 0.508800\n",
      "Epoch  6, CIFAR-10 Batch 4:  Loss:     1.2527 Accuracy: 0.513000\n",
      "Epoch  6, CIFAR-10 Batch 5:  Loss:     1.1382 Accuracy: 0.501200\n",
      "Epoch  7, CIFAR-10 Batch 1:  Loss:     1.0812 Accuracy: 0.518400\n",
      "Epoch  7, CIFAR-10 Batch 2:  Loss:     0.9458 Accuracy: 0.512800\n",
      "Epoch  7, CIFAR-10 Batch 3:  Loss:     0.8259 Accuracy: 0.512400\n",
      "Epoch  7, CIFAR-10 Batch 4:  Loss:     1.1884 Accuracy: 0.527800\n",
      "Epoch  7, CIFAR-10 Batch 5:  Loss:     1.1378 Accuracy: 0.500200\n",
      "Epoch  8, CIFAR-10 Batch 1:  Loss:     1.0511 Accuracy: 0.533200\n",
      "Epoch  8, CIFAR-10 Batch 2:  Loss:     0.8253 Accuracy: 0.526200\n",
      "Epoch  8, CIFAR-10 Batch 3:  Loss:     0.8066 Accuracy: 0.518400\n",
      "Epoch  8, CIFAR-10 Batch 4:  Loss:     1.1621 Accuracy: 0.527600\n",
      "Epoch  8, CIFAR-10 Batch 5:  Loss:     1.0493 Accuracy: 0.538000\n",
      "Epoch  9, CIFAR-10 Batch 1:  Loss:     0.9844 Accuracy: 0.545000\n",
      "Epoch  9, CIFAR-10 Batch 2:  Loss:     0.8158 Accuracy: 0.540800\n",
      "Epoch  9, CIFAR-10 Batch 3:  Loss:     0.6459 Accuracy: 0.548000\n",
      "Epoch  9, CIFAR-10 Batch 4:  Loss:     1.0668 Accuracy: 0.537600\n",
      "Epoch  9, CIFAR-10 Batch 5:  Loss:     0.8935 Accuracy: 0.536000\n",
      "Epoch 10, CIFAR-10 Batch 1:  Loss:     0.8456 Accuracy: 0.562200\n",
      "Epoch 10, CIFAR-10 Batch 2:  Loss:     0.7227 Accuracy: 0.536200\n",
      "Epoch 10, CIFAR-10 Batch 3:  Loss:     0.6147 Accuracy: 0.556800\n",
      "Epoch 10, CIFAR-10 Batch 4:  Loss:     1.0748 Accuracy: 0.515400\n",
      "Epoch 10, CIFAR-10 Batch 5:  Loss:     0.8957 Accuracy: 0.546800\n",
      "Epoch 11, CIFAR-10 Batch 1:  Loss:     0.8353 Accuracy: 0.560800\n",
      "Epoch 11, CIFAR-10 Batch 2:  Loss:     0.6453 Accuracy: 0.558800\n",
      "Epoch 11, CIFAR-10 Batch 3:  Loss:     0.5332 Accuracy: 0.563000\n",
      "Epoch 11, CIFAR-10 Batch 4:  Loss:     0.8865 Accuracy: 0.556400\n",
      "Epoch 11, CIFAR-10 Batch 5:  Loss:     0.7134 Accuracy: 0.570800\n",
      "Epoch 12, CIFAR-10 Batch 1:  Loss:     0.7331 Accuracy: 0.578800\n",
      "Epoch 12, CIFAR-10 Batch 2:  Loss:     0.5361 Accuracy: 0.579400\n",
      "Epoch 12, CIFAR-10 Batch 3:  Loss:     0.5176 Accuracy: 0.580000\n",
      "Epoch 12, CIFAR-10 Batch 4:  Loss:     0.8028 Accuracy: 0.573400\n",
      "Epoch 12, CIFAR-10 Batch 5:  Loss:     0.6072 Accuracy: 0.584600\n",
      "Epoch 13, CIFAR-10 Batch 1:  Loss:     0.6805 Accuracy: 0.582400\n",
      "Epoch 13, CIFAR-10 Batch 2:  Loss:     0.4954 Accuracy: 0.582000\n",
      "Epoch 13, CIFAR-10 Batch 3:  Loss:     0.4720 Accuracy: 0.578400\n",
      "Epoch 13, CIFAR-10 Batch 4:  Loss:     0.7048 Accuracy: 0.572200\n",
      "Epoch 13, CIFAR-10 Batch 5:  Loss:     0.5904 Accuracy: 0.582400\n",
      "Epoch 14, CIFAR-10 Batch 1:  Loss:     0.5562 Accuracy: 0.580000\n",
      "Epoch 14, CIFAR-10 Batch 2:  Loss:     0.4838 Accuracy: 0.587800\n",
      "Epoch 14, CIFAR-10 Batch 3:  Loss:     0.4007 Accuracy: 0.592200\n",
      "Epoch 14, CIFAR-10 Batch 4:  Loss:     0.5991 Accuracy: 0.579200\n",
      "Epoch 14, CIFAR-10 Batch 5:  Loss:     0.4695 Accuracy: 0.600400\n",
      "Epoch 15, CIFAR-10 Batch 1:  Loss:     0.4704 Accuracy: 0.600200\n",
      "Epoch 15, CIFAR-10 Batch 2:  Loss:     0.4193 Accuracy: 0.594200\n",
      "Epoch 15, CIFAR-10 Batch 3:  Loss:     0.3132 Accuracy: 0.603200\n",
      "Epoch 15, CIFAR-10 Batch 4:  Loss:     0.4653 Accuracy: 0.588200\n",
      "Epoch 15, CIFAR-10 Batch 5:  Loss:     0.4339 Accuracy: 0.593200\n",
      "Epoch 16, CIFAR-10 Batch 1:  Loss:     0.3757 Accuracy: 0.609000\n",
      "Epoch 16, CIFAR-10 Batch 2:  Loss:     0.3568 Accuracy: 0.597600\n",
      "Epoch 16, CIFAR-10 Batch 3:  Loss:     0.2823 Accuracy: 0.599800\n",
      "Epoch 16, CIFAR-10 Batch 4:  Loss:     0.4484 Accuracy: 0.600400\n",
      "Epoch 16, CIFAR-10 Batch 5:  Loss:     0.3633 Accuracy: 0.610200\n",
      "Epoch 17, CIFAR-10 Batch 1:  Loss:     0.3423 Accuracy: 0.606400\n",
      "Epoch 17, CIFAR-10 Batch 2:  Loss:     0.2884 Accuracy: 0.611200\n",
      "Epoch 17, CIFAR-10 Batch 3:  Loss:     0.1987 Accuracy: 0.615800\n",
      "Epoch 17, CIFAR-10 Batch 4:  Loss:     0.3957 Accuracy: 0.608600\n",
      "Epoch 17, CIFAR-10 Batch 5:  Loss:     0.2480 Accuracy: 0.624000\n",
      "Epoch 18, CIFAR-10 Batch 1:  Loss:     0.2951 Accuracy: 0.613200\n",
      "Epoch 18, CIFAR-10 Batch 2:  Loss:     0.2350 Accuracy: 0.606400\n",
      "Epoch 18, CIFAR-10 Batch 3:  Loss:     0.1740 Accuracy: 0.612200\n",
      "Epoch 18, CIFAR-10 Batch 4:  Loss:     0.3003 Accuracy: 0.610800\n",
      "Epoch 18, CIFAR-10 Batch 5:  Loss:     0.2331 Accuracy: 0.601600\n",
      "Epoch 19, CIFAR-10 Batch 1:  Loss:     0.2874 Accuracy: 0.615000\n",
      "Epoch 19, CIFAR-10 Batch 2:  Loss:     0.1827 Accuracy: 0.614400\n",
      "Epoch 19, CIFAR-10 Batch 3:  Loss:     0.1792 Accuracy: 0.604400\n",
      "Epoch 19, CIFAR-10 Batch 4:  Loss:     0.2409 Accuracy: 0.610200\n",
      "Epoch 19, CIFAR-10 Batch 5:  Loss:     0.1784 Accuracy: 0.612200\n",
      "Epoch 20, CIFAR-10 Batch 1:  Loss:     0.1568 Accuracy: 0.623600\n",
      "Epoch 20, CIFAR-10 Batch 2:  Loss:     0.1318 Accuracy: 0.613000\n",
      "Epoch 20, CIFAR-10 Batch 3:  Loss:     0.1180 Accuracy: 0.618400\n",
      "Epoch 20, CIFAR-10 Batch 4:  Loss:     0.1540 Accuracy: 0.627200\n",
      "Epoch 20, CIFAR-10 Batch 5:  Loss:     0.1365 Accuracy: 0.633000\n",
      "Epoch 21, CIFAR-10 Batch 1:  Loss:     0.1999 Accuracy: 0.621400\n",
      "Epoch 21, CIFAR-10 Batch 2:  Loss:     0.1210 Accuracy: 0.612000\n",
      "Epoch 21, CIFAR-10 Batch 3:  Loss:     0.0867 Accuracy: 0.618400\n",
      "Epoch 21, CIFAR-10 Batch 4:  Loss:     0.1668 Accuracy: 0.621600\n",
      "Epoch 21, CIFAR-10 Batch 5:  Loss:     0.1211 Accuracy: 0.623600\n",
      "Epoch 22, CIFAR-10 Batch 1:  Loss:     0.1380 Accuracy: 0.612800\n",
      "Epoch 22, CIFAR-10 Batch 2:  Loss:     0.1312 Accuracy: 0.613200\n",
      "Epoch 22, CIFAR-10 Batch 3:  Loss:     0.0816 Accuracy: 0.614600\n",
      "Epoch 22, CIFAR-10 Batch 4:  Loss:     0.1216 Accuracy: 0.619400\n",
      "Epoch 22, CIFAR-10 Batch 5:  Loss:     0.1239 Accuracy: 0.613400\n",
      "Epoch 23, CIFAR-10 Batch 1:  Loss:     0.1595 Accuracy: 0.610400\n",
      "Epoch 23, CIFAR-10 Batch 2:  Loss:     0.0865 Accuracy: 0.612800\n",
      "Epoch 23, CIFAR-10 Batch 3:  Loss:     0.0621 Accuracy: 0.628200\n",
      "Epoch 23, CIFAR-10 Batch 4:  Loss:     0.1049 Accuracy: 0.616800\n",
      "Epoch 23, CIFAR-10 Batch 5:  Loss:     0.0805 Accuracy: 0.625800\n",
      "Epoch 24, CIFAR-10 Batch 1:  Loss:     0.1110 Accuracy: 0.621000\n",
      "Epoch 24, CIFAR-10 Batch 2:  Loss:     0.0492 Accuracy: 0.625800\n",
      "Epoch 24, CIFAR-10 Batch 3:  Loss:     0.0416 Accuracy: 0.619400\n",
      "Epoch 24, CIFAR-10 Batch 4:  Loss:     0.1112 Accuracy: 0.621200\n",
      "Epoch 24, CIFAR-10 Batch 5:  Loss:     0.0873 Accuracy: 0.626200\n",
      "Epoch 25, CIFAR-10 Batch 1:  Loss:     0.1062 Accuracy: 0.620000\n",
      "Epoch 25, CIFAR-10 Batch 2:  Loss:     0.0470 Accuracy: 0.615000\n",
      "Epoch 25, CIFAR-10 Batch 3:  Loss:     0.0303 Accuracy: 0.619000\n",
      "Epoch 25, CIFAR-10 Batch 4:  Loss:     0.0772 Accuracy: 0.617600\n",
      "Epoch 25, CIFAR-10 Batch 5:  Loss:     0.0571 Accuracy: 0.617600\n",
      "Epoch 26, CIFAR-10 Batch 1:  Loss:     0.0586 Accuracy: 0.620600\n"
     ]
    },
    {
     "name": "stdout",
     "output_type": "stream",
     "text": [
      "Epoch 26, CIFAR-10 Batch 2:  Loss:     0.0514 Accuracy: 0.623600\n",
      "Epoch 26, CIFAR-10 Batch 3:  Loss:     0.0330 Accuracy: 0.619400\n",
      "Epoch 26, CIFAR-10 Batch 4:  Loss:     0.0694 Accuracy: 0.624200\n",
      "Epoch 26, CIFAR-10 Batch 5:  Loss:     0.0545 Accuracy: 0.618200\n",
      "Epoch 27, CIFAR-10 Batch 1:  Loss:     0.0409 Accuracy: 0.621200\n",
      "Epoch 27, CIFAR-10 Batch 2:  Loss:     0.0375 Accuracy: 0.614800\n",
      "Epoch 27, CIFAR-10 Batch 3:  Loss:     0.0290 Accuracy: 0.616200\n",
      "Epoch 27, CIFAR-10 Batch 4:  Loss:     0.0618 Accuracy: 0.623000\n",
      "Epoch 27, CIFAR-10 Batch 5:  Loss:     0.0582 Accuracy: 0.616000\n",
      "Epoch 28, CIFAR-10 Batch 1:  Loss:     0.0338 Accuracy: 0.618200\n",
      "Epoch 28, CIFAR-10 Batch 2:  Loss:     0.0239 Accuracy: 0.622800\n",
      "Epoch 28, CIFAR-10 Batch 3:  Loss:     0.0368 Accuracy: 0.620400\n",
      "Epoch 28, CIFAR-10 Batch 4:  Loss:     0.0522 Accuracy: 0.619000\n",
      "Epoch 28, CIFAR-10 Batch 5:  Loss:     0.0227 Accuracy: 0.625600\n",
      "Epoch 29, CIFAR-10 Batch 1:  Loss:     0.0264 Accuracy: 0.619400\n",
      "Epoch 29, CIFAR-10 Batch 2:  Loss:     0.0217 Accuracy: 0.616200\n",
      "Epoch 29, CIFAR-10 Batch 3:  Loss:     0.0206 Accuracy: 0.631000\n",
      "Epoch 29, CIFAR-10 Batch 4:  Loss:     0.0380 Accuracy: 0.621800\n",
      "Epoch 29, CIFAR-10 Batch 5:  Loss:     0.0375 Accuracy: 0.622600\n",
      "Epoch 30, CIFAR-10 Batch 1:  Loss:     0.0235 Accuracy: 0.616400\n",
      "Epoch 30, CIFAR-10 Batch 2:  Loss:     0.0273 Accuracy: 0.605800\n",
      "Epoch 30, CIFAR-10 Batch 3:  Loss:     0.0139 Accuracy: 0.616400\n",
      "Epoch 30, CIFAR-10 Batch 4:  Loss:     0.0376 Accuracy: 0.624800\n",
      "Epoch 30, CIFAR-10 Batch 5:  Loss:     0.0301 Accuracy: 0.618800\n"
     ]
    }
   ],
   "source": [
    "\"\"\"\n",
    "DON'T MODIFY ANYTHING IN THIS CELL\n",
    "\"\"\"\n",
    "save_model_path = './image_classification'\n",
    "\n",
    "print('Training...')\n",
    "with tf.Session() as sess:\n",
    "    # Initializing the variables\n",
    "    sess.run(tf.global_variables_initializer())\n",
    "    \n",
    "    # Training cycle\n",
    "    for epoch in range(epochs):\n",
    "        # Loop over all batches\n",
    "        n_batches = 5\n",
    "        for batch_i in range(1, n_batches + 1):\n",
    "            for batch_features, batch_labels in helper.load_preprocess_training_batch(batch_i, batch_size):\n",
    "                train_neural_network(sess, optimizer, keep_probability, batch_features, batch_labels)\n",
    "            print('Epoch {:>2}, CIFAR-10 Batch {}:  '.format(epoch + 1, batch_i), end='')\n",
    "            print_stats(sess, batch_features, batch_labels, cost, accuracy)\n",
    "            \n",
    "    # Save Model\n",
    "    saver = tf.train.Saver()\n",
    "    save_path = saver.save(sess, save_model_path)"
   ]
  },
  {
   "cell_type": "markdown",
   "metadata": {},
   "source": [
    "# Checkpoint\n",
    "The model has been saved to disk.\n",
    "## Test Model\n",
    "Test your model against the test dataset.  This will be your final accuracy. You should have an accuracy greater than 50%. If you don't, keep tweaking the model architecture and parameters."
   ]
  },
  {
   "cell_type": "code",
   "execution_count": 14,
   "metadata": {},
   "outputs": [
    {
     "name": "stdout",
     "output_type": "stream",
     "text": [
      "Testing Accuracy: 0.62314453125\n",
      "\n"
     ]
    },
    {
     "data": {
      "image/png": "[encoded data removed]",
      "text/plain": [
       "<matplotlib.figure.Figure at 0x18b8528c5f8>"
      ]
     },
     "metadata": {
      "image/png": {
       "height": 319,
       "width": 355
      }
     },
     "output_type": "display_data"
    }
   ],
   "source": [
    "\"\"\"\n",
    "DON'T MODIFY ANYTHING IN THIS CELL\n",
    "\"\"\"\n",
    "%matplotlib inline\n",
    "%config InlineBackend.figure_format = 'retina'\n",
    "\n",
    "import tensorflow as tf\n",
    "import pickle\n",
    "import helper\n",
    "import random\n",
    "\n",
    "# Set batch size if not already set\n",
    "try:\n",
    "    if batch_size:\n",
    "        pass\n",
    "except NameError:\n",
    "    batch_size = 64\n",
    "\n",
    "save_model_path = './image_classification'\n",
    "n_samples = 4\n",
    "top_n_predictions = 3\n",
    "\n",
    "def test_model():\n",
    "    \"\"\"\n",
    "    Test the saved model against the test dataset\n",
    "    \"\"\"\n",
    "\n",
    "    test_features, test_labels = pickle.load(open('preprocess_test.p', mode='rb'))\n",
    "    loaded_graph = tf.Graph()\n",
    "\n",
    "    with tf.Session(graph=loaded_graph) as sess:\n",
    "        # Load model\n",
    "        loader = tf.train.import_meta_graph(save_model_path + '.meta')\n",
    "        loader.restore(sess, save_model_path)\n",
    "\n",
    "        # Get Tensors from loaded model\n",
    "        loaded_x = loaded_graph.get_tensor_by_name('x:0')\n",
    "        loaded_y = loaded_graph.get_tensor_by_name('y:0')\n",
    "        loaded_keep_prob = loaded_graph.get_tensor_by_name('keep_prob:0')\n",
    "        loaded_logits = loaded_graph.get_tensor_by_name('logits:0')\n",
    "        loaded_acc = loaded_graph.get_tensor_by_name('accuracy:0')\n",
    "        \n",
    "        # Get accuracy in batches for memory limitations\n",
    "        test_batch_acc_total = 0\n",
    "        test_batch_count = 0\n",
    "        \n",
    "        for test_feature_batch, test_label_batch in helper.batch_features_labels(test_features, test_labels, batch_size):\n",
    "            test_batch_acc_total += sess.run(\n",
    "                loaded_acc,\n",
    "                feed_dict={loaded_x: test_feature_batch, loaded_y: test_label_batch, loaded_keep_prob: 1.0})\n",
    "            test_batch_count += 1\n",
    "\n",
    "        print('Testing Accuracy: {}\\n'.format(test_batch_acc_total/test_batch_count))\n",
    "\n",
    "        # Print Random Samples\n",
    "        random_test_features, random_test_labels = tuple(zip(*random.sample(list(zip(test_features, test_labels)), n_samples)))\n",
    "        random_test_predictions = sess.run(\n",
    "            tf.nn.top_k(tf.nn.softmax(loaded_logits), top_n_predictions),\n",
    "            feed_dict={loaded_x: random_test_features, loaded_y: random_test_labels, loaded_keep_prob: 1.0})\n",
    "        helper.display_image_predictions(random_test_features, random_test_labels, random_test_predictions)\n",
    "\n",
    "\n",
    "test_model()"
   ]
  },
  {
   "cell_type": "markdown",
   "metadata": {},
   "source": [
    "## Why 50-80% Accuracy?\n",
    "You might be wondering why you can't get an accuracy any higher. First things first, 50% isn't bad for a simple CNN.  Pure guessing would get you 10% accuracy. However, you might notice people are getting scores [well above 80%](http://rodrigob.github.io/are_we_there_yet/build/classification_datasets_results.html#43494641522d3130).  That's because we haven't taught you all there is to know about neural networks. We still need to cover a few more techniques.\n",
    "## Submitting This Project\n",
    "When submitting this project, make sure to run all the cells before saving the notebook.  Save the notebook file as \"dlnd_image_classification.ipynb\" and save it as a HTML file under \"File\" -> \"Download as\".  Include the \"helper.py\" and \"problem_unittests.py\" files in your submission."
   ]
  }
 ],
 "metadata": {
  "kernelspec": {
   "display_name": "Python 3",
   "language": "python",
   "name": "python3"
  },
  "language_info": {
   "codemirror_mode": {
    "name": "ipython",
    "version": 3
   },
   "file_extension": ".py",
   "mimetype": "text/x-python",
   "name": "python",
   "nbconvert_exporter": "python",
   "pygments_lexer": "ipython3",
   "version": "3.5.3"
  }
 },
 "nbformat": 4,
 "nbformat_minor": 1
}
